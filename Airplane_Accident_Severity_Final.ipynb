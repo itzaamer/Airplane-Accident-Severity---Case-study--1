{
  "nbformat": 4,
  "nbformat_minor": 0,
  "metadata": {
    "colab": {
      "name": "Airplane_Accident_Severity_Final.ipynb",
      "provenance": [],
      "collapsed_sections": [],
      "include_colab_link": true
    },
    "kernelspec": {
      "name": "python3",
      "display_name": "Python 3"
    },
    "language_info": {
      "name": "python"
    }
  },
  "cells": [
    {
      "cell_type": "markdown",
      "metadata": {
        "id": "view-in-github",
        "colab_type": "text"
      },
      "source": [
        "<a href=\"https://colab.research.google.com/github/itzaamer/Airplane-Accident-Severity---Case-study--1/blob/main/Airplane_Accident_Severity_Final.ipynb\" target=\"_parent\"><img src=\"https://colab.research.google.com/assets/colab-badge.svg\" alt=\"Open In Colab\"/></a>"
      ]
    },
    {
      "cell_type": "code",
      "source": [
        "!pip install xgboost --upgrade"
      ],
      "metadata": {
        "colab": {
          "base_uri": "https://localhost:8080/"
        },
        "outputId": "065dbedc-84aa-4660-cbf2-1c4268940f16",
        "id": "7LZe3_kkUS8p"
      },
      "execution_count": null,
      "outputs": [
        {
          "output_type": "stream",
          "name": "stdout",
          "text": [
            "Requirement already satisfied: xgboost in /usr/local/lib/python3.7/dist-packages (0.90)\n",
            "Collecting xgboost\n",
            "  Downloading xgboost-1.5.2-py3-none-manylinux2014_x86_64.whl (173.6 MB)\n",
            "\u001b[K     |████████████████████████████████| 173.6 MB 8.8 kB/s \n",
            "\u001b[?25hRequirement already satisfied: scipy in /usr/local/lib/python3.7/dist-packages (from xgboost) (1.4.1)\n",
            "Requirement already satisfied: numpy in /usr/local/lib/python3.7/dist-packages (from xgboost) (1.19.5)\n",
            "Installing collected packages: xgboost\n",
            "  Attempting uninstall: xgboost\n",
            "    Found existing installation: xgboost 0.90\n",
            "    Uninstalling xgboost-0.90:\n",
            "      Successfully uninstalled xgboost-0.90\n",
            "Successfully installed xgboost-1.5.2\n"
          ]
        }
      ]
    },
    {
      "cell_type": "code",
      "execution_count": null,
      "metadata": {
        "colab": {
          "base_uri": "https://localhost:8080/"
        },
        "outputId": "6a522714-4d09-4d0a-ef9a-0c3533eecd96",
        "id": "V4KE59SUUS8q"
      },
      "outputs": [
        {
          "output_type": "stream",
          "name": "stdout",
          "text": [
            "/usr/local/lib/python3.7/dist-packages/xgboost/compat.py\n",
            "<class 'xgboost.compat.XGBoostLabelEncoder'>\n"
          ]
        }
      ],
      "source": [
        "# import libraries\n",
        "import pandas as pd\n",
        "import numpy as np\n",
        "import pickle\n",
        "import xgboost\n",
        "from xgboost import XGBClassifier\n",
        "import xgboost.compat\n",
        "from xgboost.compat import XGBoostLabelEncoder\n",
        "import matplotlib.pyplot as plt\n",
        "import re\n",
        "import time\n",
        "import warnings\n",
        "from pickle import load\n",
        "import numpy as np\n",
        "import seaborn as sns\n",
        "from sklearn.metrics import confusion_matrix\n",
        "from sklearn.metrics import confusion_matrix,precision_score,recall_score,classification_report\n",
        "from sklearn.model_selection import train_test_split\n",
        "from sklearn.model_selection import GridSearchCV\n",
        "import math\n",
        "from pickle import load\n",
        "from sklearn.preprocessing import StandardScaler\n",
        "from sklearn.preprocessing import OneHotEncoder\n",
        "import xgboost\n",
        "from scipy.sparse import hstack\n",
        "print(xgboost.compat.__file__)\n",
        "print(xgboost.compat.XGBoostLabelEncoder)"
      ]
    },
    {
      "cell_type": "code",
      "source": [
        "from google.colab import drive\n",
        "drive.mount('/content/drive')"
      ],
      "metadata": {
        "colab": {
          "base_uri": "https://localhost:8080/"
        },
        "outputId": "29408e7a-3877-4d91-a714-a40a20ed7f63",
        "id": "hby5bdNLUS8s"
      },
      "execution_count": null,
      "outputs": [
        {
          "output_type": "stream",
          "name": "stdout",
          "text": [
            "Mounted at /content/drive\n"
          ]
        }
      ]
    },
    {
      "cell_type": "code",
      "source": [
        "import warnings\n",
        "\n",
        "warnings.filterwarnings(\"ignore\")"
      ],
      "metadata": {
        "id": "yB3dvFc9FH9p"
      },
      "execution_count": null,
      "outputs": []
    },
    {
      "cell_type": "markdown",
      "source": [
        "<h1>Function-1\n",
        "\n",
        "1. Should include entire pipeline, from data preprocessing to making final predictions.\n",
        "2. It should take in raw data as input.\n",
        "3. It should return predictions for your input. Here the input can be a single point or a set of points.\n",
        "       def final_fun_1(X):\n",
        "          .....\n",
        "          .....\n",
        "          .....\n",
        "          you will use the best model that you found out with your experiments\n",
        "          return predictions made on X ( Raw Data)"
      ],
      "metadata": {
        "id": "M55-hANlNlsP"
      }
    },
    {
      "cell_type": "code",
      "source": [
        "def final_fun_1(input):\n",
        "    \"\"\"this function predicts the final o/p class label\"\"\"     \n",
        "    \n",
        "    \n",
        "    \"\"\"Doing Feature Engineering First Part\"\"\"\n",
        "    input['Mean_of_Numerical_column'] = input[['Total_Safety_Complaints','Cabin_Temperature','Adverse_Weather_Metric','Turbulence_In_gforces','Max_Elevation','Safety_Score']].mean(axis=1)\n",
        "    input['Median_of_Numerical_column'] = input[['Total_Safety_Complaints','Cabin_Temperature','Adverse_Weather_Metric','Turbulence_In_gforces','Max_Elevation','Safety_Score']].median(axis=1)\n",
        "    input['Std_dev_of_Numerical_column'] = input[['Total_Safety_Complaints','Cabin_Temperature','Adverse_Weather_Metric','Turbulence_In_gforces','Max_Elevation','Safety_Score']].std(axis=1)\n",
        "    input['max_of_Numerical_column'] = input[['Total_Safety_Complaints','Cabin_Temperature','Adverse_Weather_Metric','Turbulence_In_gforces','Max_Elevation','Safety_Score']].max(axis=1)\n",
        "    input['min_of_Numerical_column'] = input[['Total_Safety_Complaints','Cabin_Temperature','Adverse_Weather_Metric','Turbulence_In_gforces','Max_Elevation','Safety_Score']].min(axis=1)    \n",
        "    input['Cabin_Temperature_kelvin'] = (input['Cabin_Temperature'] - 32) * 5/9 + 273.15      \n",
        "    \n",
        "    # Handling the numerical feature:\n",
        "    numerical = ['Total_Safety_Complaints','Control_Metric','Cabin_Temperature','Adverse_Weather_Metric','Turbulence_In_gforces','Max_Elevation','Safety_Score','Mean_of_Numerical_column','Median_of_Numerical_column','Std_dev_of_Numerical_column','max_of_Numerical_column','min_of_Numerical_column','Cabin_Temperature_kelvin']\n",
        "\n",
        "\n",
        "    \"\"\"Load the scalar \"\"\"\n",
        "    scaler = load(open('/content/drive/MyDrive/Case study/scaler.pkl', 'rb'))\n",
        "    for i in numerical:\n",
        "      input[i]= scaler.transform(input[i].values.reshape(-1,1))\n",
        "    \n",
        "     \n",
        "    # Handling the categorical features:\n",
        "    \n",
        "\n",
        "    \"\"\"Load the Encoder \"\"\"\n",
        "    encoder = load(open('/content/drive/MyDrive/Case study/encoder.pkl', 'rb'))\n",
        "    encoder1 = load(open('/content/drive/MyDrive/Case study/encoder1.pkl', 'rb'))\n",
        "    encoder2 = load(open('/content/drive/MyDrive/Case study/encoder2.pkl', 'rb'))\n",
        "    acc =encoder.transform(input['Accident_Type_Code'].values.reshape(-1,1))\n",
        "    days =encoder1.transform(input['Days_Since_Inspection'].values.reshape(-1,1))\n",
        "    vio =encoder2.transform(input['Violations'].values.reshape(-1,1))\n",
        "    test_data = hstack((input[numerical],acc,days,vio))\n",
        "\n",
        "    \n",
        "    \"\"\"Load the Model \"\"\"\n",
        "    model = pickle.load(open('/content/drive/MyDrive/Case study/Xgboost_model.pkl', 'rb'))\n",
        "    output = model.predict(test_data) \n",
        "    return output     "
      ],
      "metadata": {
        "id": "K_CAUdbacHNx"
      },
      "execution_count": null,
      "outputs": []
    },
    {
      "cell_type": "code",
      "source": [
        "input_data=pd.read_csv('/content/drive/MyDrive/Case study/test.csv')\n",
        "test1 = final_fun_1(input_data[:10])\n",
        "test1"
      ],
      "metadata": {
        "colab": {
          "base_uri": "https://localhost:8080/"
        },
        "id": "HWFGffYEcoy5",
        "outputId": "eb81ec15-1ca1-4203-993b-7d1392a4b597"
      },
      "execution_count": null,
      "outputs": [
        {
          "output_type": "execute_result",
          "data": {
            "text/plain": [
              "array([2, 2, 2, 2, 2, 0, 3, 2, 2, 2])"
            ]
          },
          "metadata": {},
          "execution_count": 6
        }
      ]
    },
    {
      "cell_type": "code",
      "source": [
        "input_data=pd.read_csv('/content/drive/MyDrive/Case study/test.csv')\n",
        "test1 = final_fun_1(input_data[:100])\n",
        "test1"
      ],
      "metadata": {
        "colab": {
          "base_uri": "https://localhost:8080/"
        },
        "id": "rVR58WWC4GHh",
        "outputId": "44a57eeb-32cf-41a7-fcdc-8822262a2f49"
      },
      "execution_count": null,
      "outputs": [
        {
          "output_type": "execute_result",
          "data": {
            "text/plain": [
              "array([2, 2, 2, 2, 2, 0, 3, 2, 2, 2, 2, 0, 2, 2, 2, 0, 2, 2, 2, 2, 0, 2,\n",
              "       0, 2, 2, 2, 2, 2, 2, 2, 2, 2, 2, 2, 2, 2, 2, 2, 2, 3, 2, 3, 2, 2,\n",
              "       0, 2, 1, 0, 3, 3, 2, 2, 1, 0, 2, 3, 2, 0, 2, 2, 0, 3, 2, 3, 2, 0,\n",
              "       2, 2, 2, 2, 2, 2, 2, 0, 2, 2, 0, 2, 2, 2, 2, 2, 2, 2, 2, 2, 2, 2,\n",
              "       3, 2, 2, 0, 2, 0, 3, 2, 2, 0, 0, 2])"
            ]
          },
          "metadata": {},
          "execution_count": 7
        }
      ]
    },
    {
      "cell_type": "code",
      "source": [
        "input_data=pd.read_csv('/content/drive/MyDrive/Case study/test.csv')\n",
        "test = final_fun_1(input_data[:])\n",
        "test"
      ],
      "metadata": {
        "colab": {
          "base_uri": "https://localhost:8080/"
        },
        "id": "70gTda_L1Tq3",
        "outputId": "1167f30c-47b4-4538-a893-2041c4991db6"
      },
      "execution_count": null,
      "outputs": [
        {
          "output_type": "execute_result",
          "data": {
            "text/plain": [
              "array([2, 2, 2, ..., 2, 1, 2])"
            ]
          },
          "metadata": {},
          "execution_count": 8
        }
      ]
    },
    {
      "cell_type": "code",
      "source": [
        "input_data[\"Class\"] = test\n",
        "input_data.head()"
      ],
      "metadata": {
        "colab": {
          "base_uri": "https://localhost:8080/",
          "height": 270
        },
        "id": "b7S1KD3CMsdP",
        "outputId": "1e6ce208-6e5c-4f39-da6c-bcb8d8f86dab"
      },
      "execution_count": null,
      "outputs": [
        {
          "output_type": "execute_result",
          "data": {
            "text/html": [
              "\n",
              "  <div id=\"df-43ad80ba-0136-42fd-87fb-045db17b6538\">\n",
              "    <div class=\"colab-df-container\">\n",
              "      <div>\n",
              "<style scoped>\n",
              "    .dataframe tbody tr th:only-of-type {\n",
              "        vertical-align: middle;\n",
              "    }\n",
              "\n",
              "    .dataframe tbody tr th {\n",
              "        vertical-align: top;\n",
              "    }\n",
              "\n",
              "    .dataframe thead th {\n",
              "        text-align: right;\n",
              "    }\n",
              "</style>\n",
              "<table border=\"1\" class=\"dataframe\">\n",
              "  <thead>\n",
              "    <tr style=\"text-align: right;\">\n",
              "      <th></th>\n",
              "      <th>Safety_Score</th>\n",
              "      <th>Days_Since_Inspection</th>\n",
              "      <th>Total_Safety_Complaints</th>\n",
              "      <th>Control_Metric</th>\n",
              "      <th>Turbulence_In_gforces</th>\n",
              "      <th>Cabin_Temperature</th>\n",
              "      <th>Accident_Type_Code</th>\n",
              "      <th>Max_Elevation</th>\n",
              "      <th>Violations</th>\n",
              "      <th>Adverse_Weather_Metric</th>\n",
              "      <th>Accident_ID</th>\n",
              "      <th>Class</th>\n",
              "    </tr>\n",
              "  </thead>\n",
              "  <tbody>\n",
              "    <tr>\n",
              "      <th>0</th>\n",
              "      <td>19.497717</td>\n",
              "      <td>16</td>\n",
              "      <td>6</td>\n",
              "      <td>72.151322</td>\n",
              "      <td>0.388959</td>\n",
              "      <td>78.32</td>\n",
              "      <td>4</td>\n",
              "      <td>37949.724386</td>\n",
              "      <td>2</td>\n",
              "      <td>0.069692</td>\n",
              "      <td>1</td>\n",
              "      <td>2</td>\n",
              "    </tr>\n",
              "    <tr>\n",
              "      <th>1</th>\n",
              "      <td>58.173516</td>\n",
              "      <td>15</td>\n",
              "      <td>3</td>\n",
              "      <td>64.585232</td>\n",
              "      <td>0.250841</td>\n",
              "      <td>78.60</td>\n",
              "      <td>7</td>\n",
              "      <td>30194.805567</td>\n",
              "      <td>2</td>\n",
              "      <td>0.002777</td>\n",
              "      <td>10</td>\n",
              "      <td>2</td>\n",
              "    </tr>\n",
              "    <tr>\n",
              "      <th>2</th>\n",
              "      <td>33.287671</td>\n",
              "      <td>15</td>\n",
              "      <td>3</td>\n",
              "      <td>64.721969</td>\n",
              "      <td>0.336669</td>\n",
              "      <td>86.96</td>\n",
              "      <td>6</td>\n",
              "      <td>17572.925484</td>\n",
              "      <td>1</td>\n",
              "      <td>0.004316</td>\n",
              "      <td>14</td>\n",
              "      <td>2</td>\n",
              "    </tr>\n",
              "    <tr>\n",
              "      <th>3</th>\n",
              "      <td>3.287671</td>\n",
              "      <td>21</td>\n",
              "      <td>5</td>\n",
              "      <td>66.362808</td>\n",
              "      <td>0.421775</td>\n",
              "      <td>80.86</td>\n",
              "      <td>3</td>\n",
              "      <td>40209.186341</td>\n",
              "      <td>2</td>\n",
              "      <td>0.199990</td>\n",
              "      <td>17</td>\n",
              "      <td>2</td>\n",
              "    </tr>\n",
              "    <tr>\n",
              "      <th>4</th>\n",
              "      <td>10.867580</td>\n",
              "      <td>18</td>\n",
              "      <td>2</td>\n",
              "      <td>56.107566</td>\n",
              "      <td>0.313228</td>\n",
              "      <td>79.22</td>\n",
              "      <td>2</td>\n",
              "      <td>35495.525408</td>\n",
              "      <td>2</td>\n",
              "      <td>0.483696</td>\n",
              "      <td>21</td>\n",
              "      <td>2</td>\n",
              "    </tr>\n",
              "  </tbody>\n",
              "</table>\n",
              "</div>\n",
              "      <button class=\"colab-df-convert\" onclick=\"convertToInteractive('df-43ad80ba-0136-42fd-87fb-045db17b6538')\"\n",
              "              title=\"Convert this dataframe to an interactive table.\"\n",
              "              style=\"display:none;\">\n",
              "        \n",
              "  <svg xmlns=\"http://www.w3.org/2000/svg\" height=\"24px\"viewBox=\"0 0 24 24\"\n",
              "       width=\"24px\">\n",
              "    <path d=\"M0 0h24v24H0V0z\" fill=\"none\"/>\n",
              "    <path d=\"M18.56 5.44l.94 2.06.94-2.06 2.06-.94-2.06-.94-.94-2.06-.94 2.06-2.06.94zm-11 1L8.5 8.5l.94-2.06 2.06-.94-2.06-.94L8.5 2.5l-.94 2.06-2.06.94zm10 10l.94 2.06.94-2.06 2.06-.94-2.06-.94-.94-2.06-.94 2.06-2.06.94z\"/><path d=\"M17.41 7.96l-1.37-1.37c-.4-.4-.92-.59-1.43-.59-.52 0-1.04.2-1.43.59L10.3 9.45l-7.72 7.72c-.78.78-.78 2.05 0 2.83L4 21.41c.39.39.9.59 1.41.59.51 0 1.02-.2 1.41-.59l7.78-7.78 2.81-2.81c.8-.78.8-2.07 0-2.86zM5.41 20L4 18.59l7.72-7.72 1.47 1.35L5.41 20z\"/>\n",
              "  </svg>\n",
              "      </button>\n",
              "      \n",
              "  <style>\n",
              "    .colab-df-container {\n",
              "      display:flex;\n",
              "      flex-wrap:wrap;\n",
              "      gap: 12px;\n",
              "    }\n",
              "\n",
              "    .colab-df-convert {\n",
              "      background-color: #E8F0FE;\n",
              "      border: none;\n",
              "      border-radius: 50%;\n",
              "      cursor: pointer;\n",
              "      display: none;\n",
              "      fill: #1967D2;\n",
              "      height: 32px;\n",
              "      padding: 0 0 0 0;\n",
              "      width: 32px;\n",
              "    }\n",
              "\n",
              "    .colab-df-convert:hover {\n",
              "      background-color: #E2EBFA;\n",
              "      box-shadow: 0px 1px 2px rgba(60, 64, 67, 0.3), 0px 1px 3px 1px rgba(60, 64, 67, 0.15);\n",
              "      fill: #174EA6;\n",
              "    }\n",
              "\n",
              "    [theme=dark] .colab-df-convert {\n",
              "      background-color: #3B4455;\n",
              "      fill: #D2E3FC;\n",
              "    }\n",
              "\n",
              "    [theme=dark] .colab-df-convert:hover {\n",
              "      background-color: #434B5C;\n",
              "      box-shadow: 0px 1px 3px 1px rgba(0, 0, 0, 0.15);\n",
              "      filter: drop-shadow(0px 1px 2px rgba(0, 0, 0, 0.3));\n",
              "      fill: #FFFFFF;\n",
              "    }\n",
              "  </style>\n",
              "\n",
              "      <script>\n",
              "        const buttonEl =\n",
              "          document.querySelector('#df-43ad80ba-0136-42fd-87fb-045db17b6538 button.colab-df-convert');\n",
              "        buttonEl.style.display =\n",
              "          google.colab.kernel.accessAllowed ? 'block' : 'none';\n",
              "\n",
              "        async function convertToInteractive(key) {\n",
              "          const element = document.querySelector('#df-43ad80ba-0136-42fd-87fb-045db17b6538');\n",
              "          const dataTable =\n",
              "            await google.colab.kernel.invokeFunction('convertToInteractive',\n",
              "                                                     [key], {});\n",
              "          if (!dataTable) return;\n",
              "\n",
              "          const docLinkHtml = 'Like what you see? Visit the ' +\n",
              "            '<a target=\"_blank\" href=https://colab.research.google.com/notebooks/data_table.ipynb>data table notebook</a>'\n",
              "            + ' to learn more about interactive tables.';\n",
              "          element.innerHTML = '';\n",
              "          dataTable['output_type'] = 'display_data';\n",
              "          await google.colab.output.renderOutput(dataTable, element);\n",
              "          const docLink = document.createElement('div');\n",
              "          docLink.innerHTML = docLinkHtml;\n",
              "          element.appendChild(docLink);\n",
              "        }\n",
              "      </script>\n",
              "    </div>\n",
              "  </div>\n",
              "  "
            ],
            "text/plain": [
              "   Safety_Score  Days_Since_Inspection  ...  Accident_ID  Class\n",
              "0     19.497717                     16  ...            1      2\n",
              "1     58.173516                     15  ...           10      2\n",
              "2     33.287671                     15  ...           14      2\n",
              "3      3.287671                     21  ...           17      2\n",
              "4     10.867580                     18  ...           21      2\n",
              "\n",
              "[5 rows x 12 columns]"
            ]
          },
          "metadata": {},
          "execution_count": 9
        }
      ]
    },
    {
      "cell_type": "code",
      "source": [
        "input_data[\"Class\"].value_counts()"
      ],
      "metadata": {
        "colab": {
          "base_uri": "https://localhost:8080/"
        },
        "id": "OVv8H9A-M7Xt",
        "outputId": "42ce4915-84ef-4cad-f9e5-9e63095f21f5"
      },
      "execution_count": null,
      "outputs": [
        {
          "output_type": "execute_result",
          "data": {
            "text/plain": [
              "2    1741\n",
              "0     419\n",
              "3     283\n",
              "1      57\n",
              "Name: Class, dtype: int64"
            ]
          },
          "metadata": {},
          "execution_count": 10
        }
      ]
    },
    {
      "cell_type": "code",
      "source": [
        "sns.countplot(x=input_data['Class'],data=input_data)"
      ],
      "metadata": {
        "colab": {
          "base_uri": "https://localhost:8080/",
          "height": 296
        },
        "id": "yjYE1LTRN_jZ",
        "outputId": "55a48455-539f-409b-d9d6-cbc11fd49889"
      },
      "execution_count": null,
      "outputs": [
        {
          "output_type": "execute_result",
          "data": {
            "text/plain": [
              "<matplotlib.axes._subplots.AxesSubplot at 0x7f3cc1a16710>"
            ]
          },
          "metadata": {},
          "execution_count": 11
        },
        {
          "output_type": "display_data",
          "data": {
            "image/png": "[encoded data removed]",
            "text/plain": [
              "<Figure size 432x288 with 1 Axes>"
            ]
          },
          "metadata": {
            "needs_background": "light"
          }
        }
      ]
    },
    {
      "cell_type": "markdown",
      "source": [
        "<h1>Function-2\n",
        "\n",
        "1. Should include entire pipeline, from data preprocessing to making final predictions.\n",
        "2. It should take in raw data as input along with its target values.\n",
        "3. It should return the metric value that you are judging your models on.\n",
        "          def final_fun_2(X,Y):\n",
        "              .....\n",
        "              .....\n",
        "              .....\n",
        "              you will use the best model that you found out with your experiments\n",
        "             return final_metric computed on X ( Raw Data) and Y (target variable)"
      ],
      "metadata": {
        "id": "hLXpvi_mT2EH"
      }
    },
    {
      "cell_type": "code",
      "source": [
        "def final_fun_2(X_train,X_test,y_train,y_test):\n",
        "    '''this function calculates the performance metric for given train and test data'''\n",
        "    \n",
        "    \"\"\"Load the Model \"\"\"\n",
        "    model = pickle.load(open('/content/drive/MyDrive/Case study/Xgboost_model.pkl', 'rb'))\n",
        "    model.fit(X_train,y_train)    \n",
        "    pred = model.predict_proba(X_test)\n",
        "    vd_preds = np.argmax(pred,axis=1)\n",
        "    return confusion_matrix(y_test,vd_preds)"
      ],
      "metadata": {
        "id": "Xz3zE3EfNdCe"
      },
      "execution_count": null,
      "outputs": []
    },
    {
      "cell_type": "code",
      "source": [
        "final_fun_1(input_data)"
      ],
      "metadata": {
        "colab": {
          "base_uri": "https://localhost:8080/"
        },
        "id": "PZFvGCQ0U1hG",
        "outputId": "9932ba4f-649f-42d5-e7dd-aa8f49f6f02a"
      },
      "execution_count": null,
      "outputs": [
        {
          "output_type": "execute_result",
          "data": {
            "text/plain": [
              "array([0, 0, 0, ..., 3, 1, 1])"
            ]
          },
          "metadata": {},
          "execution_count": 29
        }
      ]
    },
    {
      "cell_type": "code",
      "source": [
        "input_data=pd.read_csv('/content/drive/MyDrive/Case study/test.csv')\n",
        "X_train, X_test, y_train, y_test = train_test_split(input_data,final_fun_1(input_data), test_size=0.25,stratify=final_fun_1(input_data),random_state=42)\n",
        "print(X_train.shape,X_test.shape,y_train.shape,y_test.shape)\n",
        "final_fun_2(X_train,X_test,y_train,y_test)"
      ],
      "metadata": {
        "colab": {
          "base_uri": "https://localhost:8080/"
        },
        "id": "wSXWChWQRTdM",
        "outputId": "6ee6ce01-0cb5-4c0e-cbff-501c858d0302"
      },
      "execution_count": null,
      "outputs": [
        {
          "output_type": "stream",
          "name": "stdout",
          "text": [
            "(1875, 17) (625, 17) (1875,) (625,)\n"
          ]
        },
        {
          "output_type": "execute_result",
          "data": {
            "text/plain": [
              "array([[ 93,   2,  10,   0],\n",
              "       [  4,   9,   2,   0],\n",
              "       [  7,   0, 418,   1],\n",
              "       [  5,   0,   5,  69]])"
            ]
          },
          "metadata": {},
          "execution_count": 30
        }
      ]
    }
  ]
}